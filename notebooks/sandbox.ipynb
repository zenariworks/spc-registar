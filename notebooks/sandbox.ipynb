{
 "cells": [
  {
   "cell_type": "code",
   "execution_count": null,
   "metadata": {},
   "outputs": [],
   "source": [
    "import os\n",
    "import sys\n",
    "import django\n",
    "import sqlite3\n",
    "import pandas as pd\n",
    "import uuid\n",
    "\n",
    "#root_dir = os.path.abspath(os.path.join(os.path.dirname(os.getcwd), '..', 'crkva'))\n",
    "root_dir = os.path.abspath(os.path.join(os.getcwd(), '..', 'crkva'))\n",
    "sys.path.append(root_dir)\n",
    "\n",
    "os.environ.setdefault('DJANGO_SETTINGS_MODULE', 'crkva.settings')\n",
    "os.environ[\"DJANGO_ALLOW_ASYNC_UNSAFE\"] = \"true\"\n",
    "django.setup()\n",
    "\n",
    "from crkva.registar.models import Slava, Dan, Mesec\n",
    "\n",
    "with sqlite3.connect(os.path.join(root_dir, 'slave.sqlite')) as conn:\n",
    "    df = pd.read_sql_query(\"SELECT * FROM hspslave\", conn)\n",
    "\n",
    "for _, row in df.iterrows():\n",
    "    dan_instance = Dan.objects.filter(dan=row['sl_dan']).first()\n",
    "    mesec_instance = Mesec.objects.filter(mesec=row['sl_mesec']).first()\n",
    "\n",
    "    slava = Slava(\n",
    "        uid=uuid.uuid4(),\n",
    "        naziv=row['sl_naziv'],\n",
    "        opsti_naziv=row['sl_naziv'],\n",
    "        dan=dan_instance,\n",
    "        mesec=mesec_instance\n",
    "    )\n",
    "    slava.save()\n"
   ]
  }
 ],
 "metadata": {
  "kernelspec": {
   "display_name": "crkva",
   "language": "python",
   "name": "python3"
  },
  "language_info": {
   "codemirror_mode": {
    "name": "ipython",
    "version": 3
   },
   "file_extension": ".py",
   "mimetype": "text/x-python",
   "name": "python",
   "nbconvert_exporter": "python",
   "pygments_lexer": "ipython3",
   "version": "3.12.4"
  }
 },
 "nbformat": 4,
 "nbformat_minor": 2
}
